{
  "nbformat": 4,
  "nbformat_minor": 0,
  "metadata": {
    "colab": {
      "name": "AIML Week 2 Part 1 Simple Linear.ipynb",
      "provenance": [],
      "collapsed_sections": []
    },
    "kernelspec": {
      "name": "python3",
      "display_name": "Python 3"
    }
  },
  "cells": [
    {
      "cell_type": "code",
      "metadata": {
        "id": "XEBCwO-FK1af",
        "colab_type": "code",
        "colab": {
          "base_uri": "https://localhost:8080/",
          "height": 118
        },
        "outputId": "87615424-fe54-4b66-e478-773882f9dfef"
      },
      "source": [
        "! git clone https://github.com/DeepConnectAI/challenge-week-2.git"
      ],
      "execution_count": 5,
      "outputs": [
        {
          "output_type": "stream",
          "text": [
            "Cloning into 'challenge-week-2'...\n",
            "remote: Enumerating objects: 95, done.\u001b[K\n",
            "remote: Counting objects: 100% (95/95), done.\u001b[K\n",
            "remote: Compressing objects: 100% (81/81), done.\u001b[K\n",
            "remote: Total 95 (delta 51), reused 30 (delta 11), pack-reused 0\u001b[K\n",
            "Unpacking objects: 100% (95/95), done.\n"
          ],
          "name": "stdout"
        }
      ]
    },
    {
      "cell_type": "code",
      "metadata": {
        "id": "qB8EO9IxLkdT",
        "colab_type": "code",
        "colab": {}
      },
      "source": [
        "import numpy as np\n",
        "import matplotlib.pyplot as plt\n",
        "import pandas as pd"
      ],
      "execution_count": 2,
      "outputs": []
    },
    {
      "cell_type": "markdown",
      "metadata": {
        "id": "q50MmSS2SJp_",
        "colab_type": "text"
      },
      "source": [
        "Adding Extra Column"
      ]
    },
    {
      "cell_type": "code",
      "metadata": {
        "id": "xzBPoHFZNZ72",
        "colab_type": "code",
        "colab": {}
      },
      "source": [
        "data = pd.read_csv(\"/content/challenge-week-2/data/simple_linear_data.csv\")\n",
        "value = [1]*395\n",
        "df = pd.DataFrame(data) \n",
        "df = df.insert(0,\"One's\",value,False)\n"
      ],
      "execution_count": 16,
      "outputs": []
    },
    {
      "cell_type": "markdown",
      "metadata": {
        "id": "ehFJ2yfOSRqx",
        "colab_type": "text"
      },
      "source": [
        "Print rows from 40 to 55."
      ]
    },
    {
      "cell_type": "code",
      "metadata": {
        "id": "fSs2uxg-NtTI",
        "colab_type": "code",
        "colab": {
          "base_uri": "https://localhost:8080/",
          "height": 521
        },
        "outputId": "0b44ae7d-9a84-48a8-d7de-3b23b93ebe93"
      },
      "source": [
        "data[40:56]"
      ],
      "execution_count": 19,
      "outputs": [
        {
          "output_type": "execute_result",
          "data": {
            "text/html": [
              "<div>\n",
              "<style scoped>\n",
              "    .dataframe tbody tr th:only-of-type {\n",
              "        vertical-align: middle;\n",
              "    }\n",
              "\n",
              "    .dataframe tbody tr th {\n",
              "        vertical-align: top;\n",
              "    }\n",
              "\n",
              "    .dataframe thead th {\n",
              "        text-align: right;\n",
              "    }\n",
              "</style>\n",
              "<table border=\"1\" class=\"dataframe\">\n",
              "  <thead>\n",
              "    <tr style=\"text-align: right;\">\n",
              "      <th></th>\n",
              "      <th>One's</th>\n",
              "      <th>G2</th>\n",
              "      <th>G3</th>\n",
              "    </tr>\n",
              "  </thead>\n",
              "  <tbody>\n",
              "    <tr>\n",
              "      <th>40</th>\n",
              "      <td>1</td>\n",
              "      <td>50</td>\n",
              "      <td>55</td>\n",
              "    </tr>\n",
              "    <tr>\n",
              "      <th>41</th>\n",
              "      <td>1</td>\n",
              "      <td>60</td>\n",
              "      <td>60</td>\n",
              "    </tr>\n",
              "    <tr>\n",
              "      <th>42</th>\n",
              "      <td>1</td>\n",
              "      <td>90</td>\n",
              "      <td>90</td>\n",
              "    </tr>\n",
              "    <tr>\n",
              "      <th>43</th>\n",
              "      <td>1</td>\n",
              "      <td>40</td>\n",
              "      <td>55</td>\n",
              "    </tr>\n",
              "    <tr>\n",
              "      <th>44</th>\n",
              "      <td>1</td>\n",
              "      <td>50</td>\n",
              "      <td>45</td>\n",
              "    </tr>\n",
              "    <tr>\n",
              "      <th>45</th>\n",
              "      <td>1</td>\n",
              "      <td>40</td>\n",
              "      <td>30</td>\n",
              "    </tr>\n",
              "    <tr>\n",
              "      <th>46</th>\n",
              "      <td>1</td>\n",
              "      <td>60</td>\n",
              "      <td>55</td>\n",
              "    </tr>\n",
              "    <tr>\n",
              "      <th>47</th>\n",
              "      <td>1</td>\n",
              "      <td>95</td>\n",
              "      <td>100</td>\n",
              "    </tr>\n",
              "    <tr>\n",
              "      <th>48</th>\n",
              "      <td>1</td>\n",
              "      <td>75</td>\n",
              "      <td>70</td>\n",
              "    </tr>\n",
              "    <tr>\n",
              "      <th>49</th>\n",
              "      <td>1</td>\n",
              "      <td>35</td>\n",
              "      <td>35</td>\n",
              "    </tr>\n",
              "    <tr>\n",
              "      <th>50</th>\n",
              "      <td>1</td>\n",
              "      <td>65</td>\n",
              "      <td>65</td>\n",
              "    </tr>\n",
              "    <tr>\n",
              "      <th>51</th>\n",
              "      <td>1</td>\n",
              "      <td>65</td>\n",
              "      <td>65</td>\n",
              "    </tr>\n",
              "    <tr>\n",
              "      <th>52</th>\n",
              "      <td>1</td>\n",
              "      <td>55</td>\n",
              "      <td>50</td>\n",
              "    </tr>\n",
              "    <tr>\n",
              "      <th>53</th>\n",
              "      <td>1</td>\n",
              "      <td>50</td>\n",
              "      <td>55</td>\n",
              "    </tr>\n",
              "    <tr>\n",
              "      <th>54</th>\n",
              "      <td>1</td>\n",
              "      <td>65</td>\n",
              "      <td>65</td>\n",
              "    </tr>\n",
              "    <tr>\n",
              "      <th>55</th>\n",
              "      <td>1</td>\n",
              "      <td>45</td>\n",
              "      <td>50</td>\n",
              "    </tr>\n",
              "  </tbody>\n",
              "</table>\n",
              "</div>"
            ],
            "text/plain": [
              "    One's  G2   G3\n",
              "40      1  50   55\n",
              "41      1  60   60\n",
              "42      1  90   90\n",
              "43      1  40   55\n",
              "44      1  50   45\n",
              "45      1  40   30\n",
              "46      1  60   55\n",
              "47      1  95  100\n",
              "48      1  75   70\n",
              "49      1  35   35\n",
              "50      1  65   65\n",
              "51      1  65   65\n",
              "52      1  55   50\n",
              "53      1  50   55\n",
              "54      1  65   65\n",
              "55      1  45   50"
            ]
          },
          "metadata": {
            "tags": []
          },
          "execution_count": 19
        }
      ]
    },
    {
      "cell_type": "code",
      "metadata": {
        "id": "_Qm0zCPFRdlJ",
        "colab_type": "code",
        "colab": {
          "base_uri": "https://localhost:8080/",
          "height": 50
        },
        "outputId": "c57b030c-9d9c-4662-a2bb-5390f40450c8"
      },
      "source": [
        "x = data['G2'].values\n",
        "\n",
        "y = data['G3'].values\n",
        "x_type = type(x)\n",
        "x_shape = x.shape\n",
        "y_type = type(y)\n",
        "y_shape = y.shape\n",
        "print(f'X: Type-{x_type}, Shape-{x_shape}')\n",
        "print(f'y: Type-{y_type}, Shape-{y_shape}')"
      ],
      "execution_count": 89,
      "outputs": [
        {
          "output_type": "stream",
          "text": [
            "X: Type-<class 'numpy.ndarray'>, Shape-(395,)\n",
            "y: Type-<class 'numpy.ndarray'>, Shape-(395,)\n"
          ],
          "name": "stdout"
        }
      ]
    },
    {
      "cell_type": "markdown",
      "metadata": {
        "id": "Vf8NKkTsUFrB",
        "colab_type": "text"
      },
      "source": [
        ""
      ]
    },
    {
      "cell_type": "code",
      "metadata": {
        "id": "91tdzO9qTOgX",
        "colab_type": "code",
        "colab": {
          "base_uri": "https://localhost:8080/",
          "height": 295
        },
        "outputId": "f8959806-21c5-4d7a-fac0-076d9f6371cc"
      },
      "source": [
        "# DO NOT EDIT THIS CODE CELL\n",
        "plt.scatter(x,y)\n",
        "plt.title('Relation between second year grades and third year grades')\n",
        "plt.xlabel('G2 (X - Second year grades)')\n",
        "plt.ylabel('G3 (Y - Third year grades)')\n",
        "plt.show()"
      ],
      "execution_count": 90,
      "outputs": [
        {
          "output_type": "display_data",
          "data": {
            "image/png": "[encoded data removed]",
            "text/plain": [
              "<Figure size 432x288 with 1 Axes>"
            ]
          },
          "metadata": {
            "tags": [],
            "needs_background": "light"
          }
        }
      ]
    },
    {
      "cell_type": "markdown",
      "metadata": {
        "id": "DfS4Q4YudSOa",
        "colab_type": "text"
      },
      "source": [
        "Pre processing"
      ]
    },
    {
      "cell_type": "code",
      "metadata": {
        "id": "9M9ERMaodW4s",
        "colab_type": "code",
        "colab": {}
      },
      "source": [
        "mean = x.mean()\n",
        "sig = x.std()"
      ],
      "execution_count": 91,
      "outputs": []
    },
    {
      "cell_type": "code",
      "metadata": {
        "id": "_fUERNledgka",
        "colab_type": "code",
        "colab": {}
      },
      "source": [
        "x_train = (x-mean)/sig\n"
      ],
      "execution_count": 92,
      "outputs": []
    },
    {
      "cell_type": "code",
      "metadata": {
        "id": "9xZkBEN-eZz-",
        "colab_type": "code",
        "colab": {
          "base_uri": "https://localhost:8080/",
          "height": 295
        },
        "outputId": "49142f69-3e64-4878-ce01-7a7ea76e3460"
      },
      "source": [
        "# DO NOT EDIT THIS CODE CELL\n",
        "plt.scatter(x_train,y)\n",
        "plt.title('Relation between second year grades and third year grades')\n",
        "plt.xlabel('G2 (X - Second year grades)')\n",
        "plt.ylabel('G3 (Y - Third year grades)')\n",
        "plt.show()"
      ],
      "execution_count": 93,
      "outputs": [
        {
          "output_type": "display_data",
          "data": {
            "image/png": "[encoded data removed]",
            "text/plain": [
              "<Figure size 432x288 with 1 Axes>"
            ]
          },
          "metadata": {
            "tags": [],
            "needs_background": "light"
          }
        }
      ]
    },
    {
      "cell_type": "markdown",
      "metadata": {
        "id": "fX7eyNnaVUhX",
        "colab_type": "text"
      },
      "source": [
        "**Linear Regression From Scratch**"
      ]
    },
    {
      "cell_type": "code",
      "metadata": {
        "id": "IfzkBviuUYfg",
        "colab_type": "code",
        "colab": {}
      },
      "source": [
        "def predict(X, weights):\n",
        "    '''\n",
        "    weights   : array (2,1) w0 and w1\n",
        "    X         : array (m,2) x0 (intercept=1) and x1\n",
        "    \n",
        "    Returns predicted y using hyothesis linear function defined by given weights\n",
        "    '''\n",
        "    ### START CODE HERE ###\n",
        "    y_pred = weights[1] + weights[0]*x\n",
        "    ### END CODE HERE ###\n",
        "    \n",
        "    # assert (y_pred.shape==(X.shape[0],)), 'Wrong implementation of predict function. Check carefully'\n",
        "    \n",
        "    return y_pred"
      ],
      "execution_count": 94,
      "outputs": []
    },
    {
      "cell_type": "code",
      "metadata": {
        "id": "3bCan7BKVfht",
        "colab_type": "code",
        "colab": {}
      },
      "source": [
        "\n",
        "def error(x, y,weights) :\n",
        "  error = 0.0\n",
        "  for i in range(len(x)):\n",
        "    y_pred_i = predict(x[i],weights)\n",
        "    prediction_error = y_pred_i - y[i]\n",
        "    error += (prediction_error ** 2)\n",
        "  mean_error = error/ 2*(len(x))\n",
        "  \n",
        "  return mean_error\n",
        "\n",
        "\n",
        "    \n",
        "    "
      ],
      "execution_count": 95,
      "outputs": []
    },
    {
      "cell_type": "code",
      "metadata": {
        "id": "wVAevpktVj7P",
        "colab_type": "code",
        "colab": {}
      },
      "source": [
        "def gradient(x, y, weights): # to find the slope and intercept by partial derivative of loss function\n",
        "    '''\n",
        "    X      : array (m,2)\n",
        "    y_true : array (m,1)\n",
        "    y_pred : array (m,1)\n",
        "    \n",
        "    Returns a numpy array with gradients. Shape (2,1)\n",
        "    '''\n",
        "    # Initialize the gradient vector for w0 (intercept/bias) and w1 respectively\n",
        "    m = x.shape[0]\n",
        "    \n",
        "    grad = np.zeros(2)\n",
        "    y_pred_i = predict(x,weights)\n",
        "    \n",
        "\n",
        "    ### START CODE HERE ###\n",
        "    for i in range(m):\n",
        "      grad[0] +=  (y_pred_i[i] - y[i])\n",
        "      grad[1] += (y_pred_i[i] - y[i])*x[i]\n",
        "    \n",
        "    ### END CODE HERE ###\n",
        "    \n",
        "    return grad/(2*m)"
      ],
      "execution_count": 116,
      "outputs": []
    },
    {
      "cell_type": "code",
      "metadata": {
        "id": "BtQQTIwgVnKm",
        "colab_type": "code",
        "colab": {}
      },
      "source": [
        "def gradient_descent(x, y, learning_rate=0.01, max_iterations=100):\n",
        "    '''\n",
        "    X              : Array (m,2)\n",
        "    y              : Array (m,1)\n",
        "    learning_rate  : Learning rate\n",
        "    max_iterations : Maximum iteratons\n",
        "    \n",
        "    Returns : weights vector (2,1)\n",
        "            : losses (List)\n",
        "    '''\n",
        "    # Initialise weights vector of random values of size (2,1)\n",
        "    weights = np.random.rand(2,1)\n",
        "    # Initialize a list to record all the losses \n",
        "    losses  = []\n",
        "    for i in range(max_iterations):\n",
        "      loss = error(x,y,weights)\n",
        "      losses.append(loss[0])\n",
        "\n",
        "      grad = gradient(x,y,weights)\n",
        "\n",
        "      #updation\n",
        "      weights[0] = weights[0] - learning_rate*grad[0]\n",
        "      weights[1] = weights[1] - learning_rate*grad[1]\n",
        "\n",
        "      y_cap = predict(x_train,weights)\n",
        "    plt.scatter(x,y,c=\"red\")\n",
        "    plt.scatter(x,y_cap,c=\"purple\", label = \"predicted\")\n",
        "    plt.show()\n",
        "\n",
        "  \n",
        "    ### START CODE HERE ###\n",
        "    \n",
        "    ### END CODE HERE ###\n",
        "    \n",
        "    return weights, losses"
      ],
      "execution_count": 121,
      "outputs": []
    },
    {
      "cell_type": "code",
      "metadata": {
        "id": "0I-o-WHYfigz",
        "colab_type": "code",
        "colab": {
          "base_uri": "https://localhost:8080/",
          "height": 265
        },
        "outputId": "ca44b2a5-7b15-46e9-c267-67201e8d46fd"
      },
      "source": [
        "optimal_weights, losses = gradient_descent(x_train, y)"
      ],
      "execution_count": 122,
      "outputs": [
        {
          "output_type": "display_data",
          "data": {
            "image/png": "[encoded data removed]",
            "text/plain": [
              "<Figure size 432x288 with 1 Axes>"
            ]
          },
          "metadata": {
            "tags": [],
            "needs_background": "light"
          }
        }
      ]
    },
    {
      "cell_type": "code",
      "metadata": {
        "id": "BwSjVK80fmiT",
        "colab_type": "code",
        "colab": {
          "base_uri": "https://localhost:8080/",
          "height": 34
        },
        "outputId": "d64a3104-29ae-4675-c485-12cdd3f5c9f6"
      },
      "source": [
        "\n",
        "# DO NOT CHANGE THE FOLLOWING CODE CELLS\n",
        "# Print final loss\n",
        "print(\"Mean squared error:\", losses[-1])"
      ],
      "execution_count": 123,
      "outputs": [
        {
          "output_type": "stream",
          "text": [
            "Mean squared error: 78950778.45979726\n"
          ],
          "name": "stdout"
        }
      ]
    },
    {
      "cell_type": "code",
      "metadata": {
        "id": "yzatQvAufq-W",
        "colab_type": "code",
        "colab": {
          "base_uri": "https://localhost:8080/",
          "height": 295
        },
        "outputId": "7e777c79-0cc2-4000-d183-d2fcf8842420"
      },
      "source": [
        "\n",
        "# Plot the loss curve\n",
        "plt.plot([i for i in range(len(losses))], losses)\n",
        "plt.title(\"Loss curve\")\n",
        "plt.xlabel(\"Iteration num\")\n",
        "plt.ylabel(\"Loss\")\n",
        "plt.show()"
      ],
      "execution_count": 124,
      "outputs": [
        {
          "output_type": "display_data",
          "data": {
            "image/png": "[encoded data removed]",
            "text/plain": [
              "<Figure size 432x288 with 1 Axes>"
            ]
          },
          "metadata": {
            "tags": [],
            "needs_background": "light"
          }
        }
      ]
    },
    {
      "cell_type": "code",
      "metadata": {
        "id": "Z6iYUTYsfwCI",
        "colab_type": "code",
        "colab": {}
      },
      "source": [
        "\n",
        "# Make predictions using trained weights\n",
        "y_pred = predict(x, optimal_weights)"
      ],
      "execution_count": 126,
      "outputs": []
    },
    {
      "cell_type": "code",
      "metadata": {
        "id": "w82NlmMzfy5n",
        "colab_type": "code",
        "colab": {
          "base_uri": "https://localhost:8080/",
          "height": 295
        },
        "outputId": "f5b37aad-dbe2-4beb-c521-a03486573266"
      },
      "source": [
        "\n",
        "# Visualize the results by plotting it\n",
        "plt.scatter(x, y, c='r', label='Actual scores')\n",
        "plt.plot(x, y_pred, c='g', label='Fitted line | predictions')\n",
        "plt.legend()\n",
        "plt.title(\"Linear regression fitted line\")\n",
        "plt.xlabel(\"Second year grades\")\n",
        "plt.ylabel(\"Third year grades\")\n",
        "plt.show()"
      ],
      "execution_count": 131,
      "outputs": [
        {
          "output_type": "display_data",
          "data": {
            "image/png": "[encoded data removed]",
            "text/plain": [
              "<Figure size 432x288 with 1 Axes>"
            ]
          },
          "metadata": {
            "tags": [],
            "needs_background": "light"
          }
        }
      ]
    },
    {
      "cell_type": "code",
      "metadata": {
        "id": "2rGFeejtDnxm",
        "colab_type": "code",
        "colab": {}
      },
      "source": [
        ""
      ],
      "execution_count": null,
      "outputs": []
    }
  ]
}